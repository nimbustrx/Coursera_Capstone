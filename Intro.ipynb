{
 "cells": [
  {
   "cell_type": "markdown",
   "id": "57f674b6-32c5-48fe-87da-358faa91b320",
   "metadata": {},
   "source": [
    "<h1> Introduction"
   ]
  },
  {
   "cell_type": "markdown",
   "id": "2df70730-1d93-4eac-8888-603a32445ba4",
   "metadata": {},
   "source": [
    "For this Capstone Project, I will be leveraging the Foursquare location data in order to determine optimal places to open a Japanese Restaurant in the Houston Area. I will be looking at specific neighborhoods in the area to determine whether a neighborhood is viable by comparing the variety of venues available, as well as the amount of competition for Japanese Restaurants. This will serve as a great demonstration on the use of the Foursquare API in order to solve business problems.\n"
   ]
  },
  {
   "cell_type": "markdown",
   "id": "99b857df-dafd-4a17-b919-ca8bc2087210",
   "metadata": {},
   "source": [
    "<h1>Data"
   ]
  },
  {
   "cell_type": "markdown",
   "id": "b7e8f080-da36-4568-ae45-cc3ff26ed914",
   "metadata": {},
   "source": [
    "Using the Foursquare API I will be able to obtain information on various venues available in the Houston area. With this information, I hope to be able to group neighborhoods into clusters with similar venue makeup, and analyzing which clusters are able to sustain a new Japanese Restaurant.\n",
    "For breaking down the Houston Area into individual neighborhoods, we can webscrape information using websites such as Wikipedia."
   ]
  },
  {
   "cell_type": "code",
   "execution_count": null,
   "id": "d7b04e70-2249-46ea-97cb-35a55aae9bf4",
   "metadata": {},
   "outputs": [],
   "source": []
  }
 ],
 "metadata": {
  "kernelspec": {
   "display_name": "Python",
   "language": "python",
   "name": "conda-env-python-py"
  },
  "language_info": {
   "codemirror_mode": {
    "name": "ipython",
    "version": 3
   },
   "file_extension": ".py",
   "mimetype": "text/x-python",
   "name": "python",
   "nbconvert_exporter": "python",
   "pygments_lexer": "ipython3",
   "version": "3.6.13"
  }
 },
 "nbformat": 4,
 "nbformat_minor": 5
}
